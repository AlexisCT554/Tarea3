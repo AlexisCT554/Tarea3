{
  "nbformat": 4,
  "nbformat_minor": 0,
  "metadata": {
    "colab": {
      "name": "Tarea_3.ipynb",
      "provenance": []
    },
    "kernelspec": {
      "name": "python3",
      "display_name": "Python 3"
    },
    "language_info": {
      "name": "python"
    }
  },
  "cells": [
    {
      "cell_type": "code",
      "metadata": {
        "colab": {
          "base_uri": "https://localhost:8080/"
        },
        "id": "TMh24XFP1mec",
        "outputId": "aa29685b-bc30-4008-9912-11782946eb82"
      },
      "source": [
        "print(\"Programa que levanta la comanda de un restaurante.\\n\")\n",
        "\n",
        "menu_select = {\n",
        "    \"Mesa\":3,\n",
        "    \"Comensal\":2,\n",
        "    \"Entrada\":\"Ensalada verde\", \n",
        "    \"Medio\":\"Crema de zanahoria\",\n",
        "    \"Fuerte\":\"Filete\",\n",
        "    \"Adicionales\":\"Filete término medio, la ensalada sin ningun tipo de semilla, Adereso Ranch\",\n",
        "    }\n",
        "\n",
        "print(\"---------------------------------------------------\")\n",
        "print(\"\\nDetalles:\")\n",
        "\n",
        "llaves = menu_select.keys()\n",
        "for llave in llaves:\n",
        "  print(f\"\\n\\t{llave.upper()}: {menu_select[llave]}\")"
      ],
      "execution_count": 7,
      "outputs": [
        {
          "output_type": "stream",
          "name": "stdout",
          "text": [
            "Programa que levanta la comanda de un restaurante.\n",
            "\n",
            "---------------------------------------------------\n",
            "\n",
            "Detalles:\n",
            "\n",
            "\tMESA: 3\n",
            "\n",
            "\tCOMENSAL: 2\n",
            "\n",
            "\tENTRADA: Ensalada verde\n",
            "\n",
            "\tMEDIO: Crema de zanahoria\n",
            "\n",
            "\tFUERTE: Filete\n",
            "\n",
            "\tADICIONALES: Filete término medio, la ensalada sin ningun tipo de semilla, Adereso Ranch\n"
          ]
        }
      ]
    }
  ]
}